{
 "cells": [
  {
   "cell_type": "code",
   "execution_count": 0,
   "metadata": {
    "application/vnd.databricks.v1+cell": {
     "cellMetadata": {
      "byteLimit": 2048000,
      "rowLimit": 10000
     },
     "inputWidgets": {},
     "nuid": "c735aea5-dc51-44b6-a917-051f96486d1b",
     "showTitle": false,
     "tableResultSettingsMap": {},
     "title": ""
    }
   },
   "outputs": [],
   "source": [
    "import pandas as pd\n",
    "import matplotlib as plt"
   ]
  },
  {
   "cell_type": "code",
   "execution_count": 0,
   "metadata": {
    "application/vnd.databricks.v1+cell": {
     "cellMetadata": {
      "byteLimit": 2048000,
      "rowLimit": 10000
     },
     "inputWidgets": {},
     "nuid": "be310f6c-9805-411c-b6b0-53d366e8fe08",
     "showTitle": false,
     "tableResultSettingsMap": {},
     "title": ""
    }
   },
   "outputs": [],
   "source": [
    "csv_data = pd.read_csv(\"https://raw.githubusercontent.com/CSafewright/CS440_autism_datasets/refs/heads/main/autism_prevalence_studies_20250928.csv\")\n",
    "df = pd.DataFrame(csv_data)"
   ]
  },
  {
   "cell_type": "markdown",
   "metadata": {
    "application/vnd.databricks.v1+cell": {
     "cellMetadata": {
      "byteLimit": 2048000,
      "rowLimit": 10000
     },
     "inputWidgets": {},
     "nuid": "5dba6cca-9654-4794-b6f9-4387b78fddff",
     "showTitle": false,
     "tableResultSettingsMap": {},
     "title": ""
    }
   },
   "source": [
    "Dropping unneeded columns"
   ]
  },
  {
   "cell_type": "code",
   "execution_count": 0,
   "metadata": {
    "application/vnd.databricks.v1+cell": {
     "cellMetadata": {
      "byteLimit": 2048000,
      "rowLimit": 10000
     },
     "inputWidgets": {},
     "nuid": "40ab34ed-281d-47d4-a484-dd2887ae787c",
     "showTitle": false,
     "tableResultSettingsMap": {},
     "title": ""
    }
   },
   "outputs": [],
   "source": [
    "df.drop(['Title','Link to Publication', 'CDC Calculated Values',\n",
    "         'Adaptive Score <70 (%)', 'Diagnosis Age Range (months)',\n",
    "         'Diagnosis Median Age (months)', 'Diagnosis Mean Age (months)',\n",
    "         'Non-Verbal or Minimally Verbal (%)', 'Percentage of Individual Co-occurring Conditions',\n",
    "         'IQ Score <70 (%)', 'Non-Hispanic White:Hispanic Prevalence Ratio',\n",
    "         'White:Black Prevalence Ratio', 'Autism Types Included',\n",
    "         'Case Criterion', 'Confidence Interval (CI)'], axis=1, inplace=True)"
   ]
  },
  {
   "cell_type": "markdown",
   "metadata": {
    "application/vnd.databricks.v1+cell": {
     "cellMetadata": {
      "byteLimit": 2048000,
      "rowLimit": 10000
     },
     "inputWidgets": {},
     "nuid": "3e1182cf-112e-469c-988a-b774d3dbdd52",
     "showTitle": false,
     "tableResultSettingsMap": {},
     "title": ""
    }
   },
   "source": [
    "Dropping study where 18 to 64 was the age range. Not important to us, we are looking at autism in children."
   ]
  },
  {
   "cell_type": "code",
   "execution_count": 0,
   "metadata": {
    "application/vnd.databricks.v1+cell": {
     "cellMetadata": {
      "byteLimit": 2048000,
      "rowLimit": 10000
     },
     "inputWidgets": {},
     "nuid": "4a049206-4cd6-4e53-9ce6-82a092cce402",
     "showTitle": false,
     "tableResultSettingsMap": {},
     "title": ""
    }
   },
   "outputs": [],
   "source": [
    "df = df[df['Age Range'] != '18 to 64']"
   ]
  },
  {
   "cell_type": "code",
   "execution_count": 0,
   "metadata": {
    "application/vnd.databricks.v1+cell": {
     "cellMetadata": {
      "byteLimit": 2048000,
      "rowLimit": 10000
     },
     "inputWidgets": {},
     "nuid": "a11119dd-3f53-4a91-8be3-4c5f153029bc",
     "showTitle": false,
     "tableResultSettingsMap": {},
     "title": ""
    }
   },
   "outputs": [],
   "source": [
    "df['Area(s)'] = df['Area(s)'].fillna('Unknown')"
   ]
  },
  {
   "cell_type": "code",
   "execution_count": 0,
   "metadata": {
    "application/vnd.databricks.v1+cell": {
     "cellMetadata": {
      "byteLimit": 2048000,
      "rowLimit": 10000
     },
     "inputWidgets": {},
     "nuid": "149009ce-9aa7-470d-860c-df4497a0adbb",
     "showTitle": false,
     "tableResultSettingsMap": {},
     "title": ""
    }
   },
   "outputs": [
    {
     "output_type": "execute_result",
     "data": {
      "text/plain": [
       "Author                               206\n",
       "Year Published                       206\n",
       "Country                              206\n",
       "Area(s)                              206\n",
       "Age Range                            201\n",
       "Study Years                          184\n",
       "Case Identification Method           206\n",
       "Sample Size                          191\n",
       "Number of Cases                      191\n",
       "ASD Prevalence Estimate per 1,000    206\n",
       "Male:Female Sex Ratio                138\n",
       "dtype: int64"
      ]
     },
     "execution_count": 825,
     "metadata": {},
     "output_type": "execute_result"
    }
   ],
   "source": [
    "df.count()"
   ]
  },
  {
   "cell_type": "markdown",
   "metadata": {
    "application/vnd.databricks.v1+cell": {
     "cellMetadata": {
      "byteLimit": 2048000,
      "rowLimit": 10000
     },
     "inputWidgets": {},
     "nuid": "cc5d2db8-abcc-4a31-b2e7-e4ae8c2f294c",
     "showTitle": false,
     "tableResultSettingsMap": {},
     "title": ""
    }
   },
   "source": [
    "Splitting 'Study Years' column and 'Age Range' column into two seperate columns each.  \n",
    "When the study years only occured for one year, the year started and year ended column are the same.  \n",
    "When the age range is only one age, the youngest and oldest age columns are the same."
   ]
  },
  {
   "cell_type": "code",
   "execution_count": 0,
   "metadata": {
    "application/vnd.databricks.v1+cell": {
     "cellMetadata": {
      "byteLimit": 2048000,
      "rowLimit": 10000
     },
     "inputWidgets": {},
     "nuid": "0c26e9da-77d9-444f-84cd-1136c6f135b2",
     "showTitle": false,
     "tableResultSettingsMap": {},
     "title": ""
    }
   },
   "outputs": [],
   "source": [
    "# Split Study Years into start and end\n",
    "df[['year_started', 'year_ended']] = (\n",
    "    df['Study Years'].str.extract(r'(\\d+)\\s*-\\s*(\\d+)')\n",
    ")\n",
    "\n",
    "# If there are \" & \" cases instead of \"-\", handle them\n",
    "mask_alt = df['Study Years'].str.contains('&', na=False)\n",
    "df.loc[mask_alt, ['year_started', 'year_ended']] = (\n",
    "    df.loc[mask_alt, 'Study Years'].str.extract(r'(\\d+)\\s*&\\s*(\\d+)')\n",
    ")\n",
    "\n",
    "df['year_started'] = df['year_started'].fillna(df['Year Published'])\n",
    "\n",
    "# Fill missing end years with start years\n",
    "df['year_ended'] = df['year_ended'].fillna(df['year_started'])\n",
    "\n",
    "# Split Age Range\n",
    "df[['youngest_age', 'oldest_age']] = (\n",
    "    df['Age Range'].str.extract(r'(\\d+)\\s*to\\s*(\\d+)')\n",
    ")\n",
    "\n",
    "df['youngest_age'] = df['youngest_age'].fillna(df['Age Range'])\n",
    "\n",
    "# Fill missing oldest_age with youngest_age\n",
    "df['oldest_age'] = df['oldest_age'].fillna(df['youngest_age'])\n",
    "\n",
    "# Drop original columns\n",
    "#df = df.drop(columns=['Age Range', 'Study Years'])\n",
    "\n",
    "# Convert to numeric\n",
    "df[['year_started', 'year_ended', 'youngest_age', 'oldest_age', 'Sample Size', 'Number of Cases']] = (\n",
    "    df[['year_started', 'year_ended', 'youngest_age', 'oldest_age', 'Sample Size', 'Number of Cases']].apply(pd.to_numeric, errors='coerce')\n",
    ")"
   ]
  },
  {
   "cell_type": "code",
   "execution_count": 0,
   "metadata": {
    "application/vnd.databricks.v1+cell": {
     "cellMetadata": {
      "byteLimit": 2048000,
      "rowLimit": 10000
     },
     "inputWidgets": {},
     "nuid": "1b719500-cea5-4847-96ee-2253d3e779eb",
     "showTitle": false,
     "tableResultSettingsMap": {},
     "title": ""
    }
   },
   "outputs": [
    {
     "output_type": "execute_result",
     "data": {
      "text/html": [
       "<div>\n",
       "<style scoped>\n",
       "    .dataframe tbody tr th:only-of-type {\n",
       "        vertical-align: middle;\n",
       "    }\n",
       "\n",
       "    .dataframe tbody tr th {\n",
       "        vertical-align: top;\n",
       "    }\n",
       "\n",
       "    .dataframe thead th {\n",
       "        text-align: right;\n",
       "    }\n",
       "</style>\n",
       "<table border=\"1\" class=\"dataframe\">\n",
       "  <thead>\n",
       "    <tr style=\"text-align: right;\">\n",
       "      <th></th>\n",
       "      <th>Year Published</th>\n",
       "      <th>Sample Size</th>\n",
       "      <th>Number of Cases</th>\n",
       "      <th>ASD Prevalence Estimate per 1,000</th>\n",
       "      <th>Male:Female Sex Ratio</th>\n",
       "      <th>year_started</th>\n",
       "      <th>year_ended</th>\n",
       "      <th>youngest_age</th>\n",
       "      <th>oldest_age</th>\n",
       "    </tr>\n",
       "  </thead>\n",
       "  <tbody>\n",
       "    <tr>\n",
       "      <th>count</th>\n",
       "      <td>206.000000</td>\n",
       "      <td>8.000000</td>\n",
       "      <td>136.000000</td>\n",
       "      <td>206.000000</td>\n",
       "      <td>138.000000</td>\n",
       "      <td>206.000000</td>\n",
       "      <td>206.000000</td>\n",
       "      <td>200.000000</td>\n",
       "      <td>200.000000</td>\n",
       "    </tr>\n",
       "    <tr>\n",
       "      <th>mean</th>\n",
       "      <td>2009.266990</td>\n",
       "      <td>679.750000</td>\n",
       "      <td>211.448529</td>\n",
       "      <td>8.637704</td>\n",
       "      <td>4.081232</td>\n",
       "      <td>2006.635922</td>\n",
       "      <td>2008.033981</td>\n",
       "      <td>4.355000</td>\n",
       "      <td>11.710000</td>\n",
       "    </tr>\n",
       "    <tr>\n",
       "      <th>std</th>\n",
       "      <td>10.815146</td>\n",
       "      <td>207.304297</td>\n",
       "      <td>262.891467</td>\n",
       "      <td>8.207193</td>\n",
       "      <td>1.554231</td>\n",
       "      <td>11.674382</td>\n",
       "      <td>10.930102</td>\n",
       "      <td>3.004013</td>\n",
       "      <td>5.553386</td>\n",
       "    </tr>\n",
       "    <tr>\n",
       "      <th>min</th>\n",
       "      <td>1966.000000</td>\n",
       "      <td>374.000000</td>\n",
       "      <td>2.000000</td>\n",
       "      <td>0.077000</td>\n",
       "      <td>1.100000</td>\n",
       "      <td>1962.000000</td>\n",
       "      <td>1966.000000</td>\n",
       "      <td>0.000000</td>\n",
       "      <td>2.000000</td>\n",
       "    </tr>\n",
       "    <tr>\n",
       "      <th>25%</th>\n",
       "      <td>2005.250000</td>\n",
       "      <td>617.000000</td>\n",
       "      <td>34.750000</td>\n",
       "      <td>2.355000</td>\n",
       "      <td>3.000000</td>\n",
       "      <td>2002.250000</td>\n",
       "      <td>2004.000000</td>\n",
       "      <td>2.000000</td>\n",
       "      <td>8.000000</td>\n",
       "    </tr>\n",
       "    <tr>\n",
       "      <th>50%</th>\n",
       "      <td>2012.000000</td>\n",
       "      <td>707.500000</td>\n",
       "      <td>70.500000</td>\n",
       "      <td>6.200000</td>\n",
       "      <td>4.100000</td>\n",
       "      <td>2010.000000</td>\n",
       "      <td>2011.000000</td>\n",
       "      <td>5.000000</td>\n",
       "      <td>11.000000</td>\n",
       "    </tr>\n",
       "    <tr>\n",
       "      <th>75%</th>\n",
       "      <td>2017.000000</td>\n",
       "      <td>759.250000</td>\n",
       "      <td>301.250000</td>\n",
       "      <td>12.175000</td>\n",
       "      <td>4.775000</td>\n",
       "      <td>2015.000000</td>\n",
       "      <td>2016.000000</td>\n",
       "      <td>7.000000</td>\n",
       "      <td>17.000000</td>\n",
       "    </tr>\n",
       "    <tr>\n",
       "      <th>max</th>\n",
       "      <td>2022.000000</td>\n",
       "      <td>998.000000</td>\n",
       "      <td>987.000000</td>\n",
       "      <td>43.600000</td>\n",
       "      <td>9.900000</td>\n",
       "      <td>2022.000000</td>\n",
       "      <td>2022.000000</td>\n",
       "      <td>15.000000</td>\n",
       "      <td>30.000000</td>\n",
       "    </tr>\n",
       "  </tbody>\n",
       "</table>\n",
       "</div>"
      ],
      "text/plain": [
       "       Year Published  Sample Size  ...  youngest_age  oldest_age\n",
       "count      206.000000     8.000000  ...    200.000000  200.000000\n",
       "mean      2009.266990   679.750000  ...      4.355000   11.710000\n",
       "std         10.815146   207.304297  ...      3.004013    5.553386\n",
       "min       1966.000000   374.000000  ...      0.000000    2.000000\n",
       "25%       2005.250000   617.000000  ...      2.000000    8.000000\n",
       "50%       2012.000000   707.500000  ...      5.000000   11.000000\n",
       "75%       2017.000000   759.250000  ...      7.000000   17.000000\n",
       "max       2022.000000   998.000000  ...     15.000000   30.000000\n",
       "\n",
       "[8 rows x 9 columns]"
      ]
     },
     "execution_count": 827,
     "metadata": {},
     "output_type": "execute_result"
    }
   ],
   "source": [
    "df.describe()"
   ]
  },
  {
   "cell_type": "code",
   "execution_count": 0,
   "metadata": {
    "application/vnd.databricks.v1+cell": {
     "cellMetadata": {
      "byteLimit": 2048000,
      "rowLimit": 10000
     },
     "inputWidgets": {},
     "nuid": "c89672c5-8604-40e4-a53a-72faa4dea8d6",
     "showTitle": false,
     "tableResultSettingsMap": {},
     "title": ""
    }
   },
   "outputs": [],
   "source": [
    "avg_youngest_age = df['youngest_age'].mean()\n",
    "avg_oldest_age = df['oldest_age'].mean()\n",
    "df['youngest_age'] = df['youngest_age'].fillna(avg_youngest_age)\n",
    "df['oldest_age'] = df['oldest_age'].fillna(avg_oldest_age)"
   ]
  },
  {
   "cell_type": "markdown",
   "metadata": {
    "application/vnd.databricks.v1+cell": {
     "cellMetadata": {
      "byteLimit": 2048000,
      "rowLimit": 10000
     },
     "inputWidgets": {},
     "nuid": "2ae1e8ef-a0e3-43d6-9509-660f597bfd33",
     "showTitle": false,
     "tableResultSettingsMap": {},
     "title": ""
    }
   },
   "source": [
    "Changing empty spaces in Area(s), Sample Size, and Number of Cases columns to 'Unknown'"
   ]
  },
  {
   "cell_type": "code",
   "execution_count": 0,
   "metadata": {
    "application/vnd.databricks.v1+cell": {
     "cellMetadata": {
      "byteLimit": 2048000,
      "rowLimit": 10000
     },
     "inputWidgets": {},
     "nuid": "4ff15837-3c5c-4688-aec6-daa4b021f096",
     "showTitle": false,
     "tableResultSettingsMap": {},
     "title": ""
    }
   },
   "outputs": [],
   "source": [
    "df['Area(s)'] = df['Area(s)'].fillna('Unknown')"
   ]
  },
  {
   "cell_type": "code",
   "execution_count": 0,
   "metadata": {
    "application/vnd.databricks.v1+cell": {
     "cellMetadata": {
      "byteLimit": 2048000,
      "rowLimit": 10000
     },
     "inputWidgets": {},
     "nuid": "2958b614-969b-4e58-8651-5f8c3ea3bfd6",
     "showTitle": false,
     "tableResultSettingsMap": {},
     "title": ""
    }
   },
   "outputs": [
    {
     "output_type": "execute_result",
     "data": {
      "text/plain": [
       "np.float64(679.75)"
      ]
     },
     "execution_count": 830,
     "metadata": {},
     "output_type": "execute_result"
    }
   ],
   "source": [
    "df['Sample Size'].mean()"
   ]
  },
  {
   "cell_type": "code",
   "execution_count": 0,
   "metadata": {
    "application/vnd.databricks.v1+cell": {
     "cellMetadata": {
      "byteLimit": 2048000,
      "rowLimit": 10000
     },
     "inputWidgets": {},
     "nuid": "4eac006a-1970-4f74-b81e-058cf842aabd",
     "showTitle": false,
     "tableResultSettingsMap": {},
     "title": ""
    }
   },
   "outputs": [
    {
     "output_type": "execute_result",
     "data": {
      "text/plain": [
       "np.float64(211.4485294117647)"
      ]
     },
     "execution_count": 831,
     "metadata": {},
     "output_type": "execute_result"
    }
   ],
   "source": [
    "df['Number of Cases'].mean()\n",
    "#df['Number of Cases'].fillna(df['Number of Cases'].mean(), inplace=True)']"
   ]
  },
  {
   "cell_type": "code",
   "execution_count": 0,
   "metadata": {
    "application/vnd.databricks.v1+cell": {
     "cellMetadata": {
      "byteLimit": 2048000,
      "rowLimit": 10000
     },
     "inputWidgets": {},
     "nuid": "3ee92d35-6844-488e-8a90-e997e2995b4a",
     "showTitle": false,
     "tableResultSettingsMap": {},
     "title": ""
    }
   },
   "outputs": [
    {
     "output_type": "execute_result",
     "data": {
      "text/plain": [
       "np.float64(8.637703883495146)"
      ]
     },
     "execution_count": 832,
     "metadata": {},
     "output_type": "execute_result"
    }
   ],
   "source": [
    "df['ASD Prevalence Estimate per 1,000'].mean()"
   ]
  },
  {
   "cell_type": "code",
   "execution_count": 0,
   "metadata": {
    "application/vnd.databricks.v1+cell": {
     "cellMetadata": {
      "byteLimit": 2048000,
      "rowLimit": 10000
     },
     "inputWidgets": {},
     "nuid": "00a54acc-ca3f-4dc5-91af-d43897996feb",
     "showTitle": false,
     "tableResultSettingsMap": {},
     "title": ""
    }
   },
   "outputs": [
    {
     "output_type": "execute_result",
     "data": {
      "text/plain": [
       "Author                               206\n",
       "Year Published                       206\n",
       "Country                              206\n",
       "Area(s)                              206\n",
       "Age Range                            201\n",
       "Study Years                          184\n",
       "Case Identification Method           206\n",
       "Sample Size                            8\n",
       "Number of Cases                      136\n",
       "ASD Prevalence Estimate per 1,000    206\n",
       "Male:Female Sex Ratio                138\n",
       "year_started                         206\n",
       "year_ended                           206\n",
       "youngest_age                         206\n",
       "oldest_age                           206\n",
       "dtype: int64"
      ]
     },
     "execution_count": 833,
     "metadata": {},
     "output_type": "execute_result"
    }
   ],
   "source": [
    "df.count()"
   ]
  },
  {
   "cell_type": "markdown",
   "metadata": {
    "application/vnd.databricks.v1+cell": {
     "cellMetadata": {
      "byteLimit": 2048000,
      "rowLimit": 10000
     },
     "inputWidgets": {},
     "nuid": "947e23a6-4c28-43f2-bb42-35035029e3ac",
     "showTitle": false,
     "tableResultSettingsMap": {},
     "title": ""
    }
   },
   "source": [
    "Male:Female Sex Ratio had 67% of cells. There were only 39 below 3.0 and 59 below 4.0. There were ~75 above 4.0.  \n",
    "I felt it safe to assign the mean to of 4.07 to the empty cells.\n",
    "This update changes the USA average from 3.95 to 3.999 (4.0)\n",
    "For every other study outside of the US, the average changes from 4.114 to 4.1"
   ]
  },
  {
   "cell_type": "code",
   "execution_count": 0,
   "metadata": {
    "application/vnd.databricks.v1+cell": {
     "cellMetadata": {
      "byteLimit": 2048000,
      "rowLimit": 10000
     },
     "inputWidgets": {},
     "nuid": "cde4465c-474c-4977-9b18-d494de79bb67",
     "showTitle": false,
     "tableResultSettingsMap": {},
     "title": ""
    }
   },
   "outputs": [],
   "source": [
    "mf_avg_ratio = df['Male:Female Sex Ratio'].mean()\n",
    "df['Male:Female Sex Ratio'] = df['Male:Female Sex Ratio'].fillna(mf_avg_ratio)"
   ]
  },
  {
   "cell_type": "code",
   "execution_count": 0,
   "metadata": {
    "application/vnd.databricks.v1+cell": {
     "cellMetadata": {
      "byteLimit": 2048000,
      "rowLimit": 10000
     },
     "inputWidgets": {},
     "nuid": "14f8aa1e-7372-447e-9a85-463592e6e22a",
     "showTitle": false,
     "tableResultSettingsMap": {},
     "title": ""
    }
   },
   "outputs": [
    {
     "output_type": "execute_result",
     "data": {
      "text/html": [
       "<div>\n",
       "<style scoped>\n",
       "    .dataframe tbody tr th:only-of-type {\n",
       "        vertical-align: middle;\n",
       "    }\n",
       "\n",
       "    .dataframe tbody tr th {\n",
       "        vertical-align: top;\n",
       "    }\n",
       "\n",
       "    .dataframe thead th {\n",
       "        text-align: right;\n",
       "    }\n",
       "</style>\n",
       "<table border=\"1\" class=\"dataframe\">\n",
       "  <thead>\n",
       "    <tr style=\"text-align: right;\">\n",
       "      <th></th>\n",
       "      <th>Year Published</th>\n",
       "      <th>Sample Size</th>\n",
       "      <th>Number of Cases</th>\n",
       "      <th>ASD Prevalence Estimate per 1,000</th>\n",
       "      <th>Male:Female Sex Ratio</th>\n",
       "      <th>year_started</th>\n",
       "      <th>year_ended</th>\n",
       "      <th>youngest_age</th>\n",
       "      <th>oldest_age</th>\n",
       "    </tr>\n",
       "  </thead>\n",
       "  <tbody>\n",
       "    <tr>\n",
       "      <th>count</th>\n",
       "      <td>206.000000</td>\n",
       "      <td>8.000000</td>\n",
       "      <td>136.000000</td>\n",
       "      <td>206.000000</td>\n",
       "      <td>206.000000</td>\n",
       "      <td>206.000000</td>\n",
       "      <td>206.000000</td>\n",
       "      <td>206.000000</td>\n",
       "      <td>206.000000</td>\n",
       "    </tr>\n",
       "    <tr>\n",
       "      <th>mean</th>\n",
       "      <td>2009.266990</td>\n",
       "      <td>679.750000</td>\n",
       "      <td>211.448529</td>\n",
       "      <td>8.637704</td>\n",
       "      <td>4.081232</td>\n",
       "      <td>2006.635922</td>\n",
       "      <td>2008.033981</td>\n",
       "      <td>4.355000</td>\n",
       "      <td>11.710000</td>\n",
       "    </tr>\n",
       "    <tr>\n",
       "      <th>std</th>\n",
       "      <td>10.815146</td>\n",
       "      <td>207.304297</td>\n",
       "      <td>262.891467</td>\n",
       "      <td>8.207193</td>\n",
       "      <td>1.270571</td>\n",
       "      <td>11.674382</td>\n",
       "      <td>10.930102</td>\n",
       "      <td>2.959726</td>\n",
       "      <td>5.471514</td>\n",
       "    </tr>\n",
       "    <tr>\n",
       "      <th>min</th>\n",
       "      <td>1966.000000</td>\n",
       "      <td>374.000000</td>\n",
       "      <td>2.000000</td>\n",
       "      <td>0.077000</td>\n",
       "      <td>1.100000</td>\n",
       "      <td>1962.000000</td>\n",
       "      <td>1966.000000</td>\n",
       "      <td>0.000000</td>\n",
       "      <td>2.000000</td>\n",
       "    </tr>\n",
       "    <tr>\n",
       "      <th>25%</th>\n",
       "      <td>2005.250000</td>\n",
       "      <td>617.000000</td>\n",
       "      <td>34.750000</td>\n",
       "      <td>2.355000</td>\n",
       "      <td>3.600000</td>\n",
       "      <td>2002.250000</td>\n",
       "      <td>2004.000000</td>\n",
       "      <td>2.000000</td>\n",
       "      <td>8.000000</td>\n",
       "    </tr>\n",
       "    <tr>\n",
       "      <th>50%</th>\n",
       "      <td>2012.000000</td>\n",
       "      <td>707.500000</td>\n",
       "      <td>70.500000</td>\n",
       "      <td>6.200000</td>\n",
       "      <td>4.081232</td>\n",
       "      <td>2010.000000</td>\n",
       "      <td>2011.000000</td>\n",
       "      <td>4.677500</td>\n",
       "      <td>11.000000</td>\n",
       "    </tr>\n",
       "    <tr>\n",
       "      <th>75%</th>\n",
       "      <td>2017.000000</td>\n",
       "      <td>759.250000</td>\n",
       "      <td>301.250000</td>\n",
       "      <td>12.175000</td>\n",
       "      <td>4.300000</td>\n",
       "      <td>2015.000000</td>\n",
       "      <td>2016.000000</td>\n",
       "      <td>6.000000</td>\n",
       "      <td>16.000000</td>\n",
       "    </tr>\n",
       "    <tr>\n",
       "      <th>max</th>\n",
       "      <td>2022.000000</td>\n",
       "      <td>998.000000</td>\n",
       "      <td>987.000000</td>\n",
       "      <td>43.600000</td>\n",
       "      <td>9.900000</td>\n",
       "      <td>2022.000000</td>\n",
       "      <td>2022.000000</td>\n",
       "      <td>15.000000</td>\n",
       "      <td>30.000000</td>\n",
       "    </tr>\n",
       "  </tbody>\n",
       "</table>\n",
       "</div>"
      ],
      "text/plain": [
       "       Year Published  Sample Size  ...  youngest_age  oldest_age\n",
       "count      206.000000     8.000000  ...    206.000000  206.000000\n",
       "mean      2009.266990   679.750000  ...      4.355000   11.710000\n",
       "std         10.815146   207.304297  ...      2.959726    5.471514\n",
       "min       1966.000000   374.000000  ...      0.000000    2.000000\n",
       "25%       2005.250000   617.000000  ...      2.000000    8.000000\n",
       "50%       2012.000000   707.500000  ...      4.677500   11.000000\n",
       "75%       2017.000000   759.250000  ...      6.000000   16.000000\n",
       "max       2022.000000   998.000000  ...     15.000000   30.000000\n",
       "\n",
       "[8 rows x 9 columns]"
      ]
     },
     "execution_count": 835,
     "metadata": {},
     "output_type": "execute_result"
    }
   ],
   "source": [
    "df.describe()"
   ]
  },
  {
   "cell_type": "code",
   "execution_count": 0,
   "metadata": {
    "application/vnd.databricks.v1+cell": {
     "cellMetadata": {
      "byteLimit": 2048000,
      "rowLimit": 10000
     },
     "inputWidgets": {},
     "nuid": "a2f77372-8265-494c-9354-7ae61269e7c8",
     "showTitle": false,
     "tableResultSettingsMap": {},
     "title": ""
    }
   },
   "outputs": [
    {
     "output_type": "execute_result",
     "data": {
      "text/plain": [
       "array(['England', 'USA', 'Denmark', 'Japan', 'Sweden', 'Ireland',\n",
       "       'Germany', 'Canada', 'France', 'Indonesia', 'Wales', 'Norway',\n",
       "       'Finland', 'Iceland', 'United Kingdom', 'Australia', 'Spain',\n",
       "       'China', 'Scotland', 'Portugal', 'United Arab Emirates',\n",
       "       'Venezuela', 'Caribbean', 'Sri Lanka', 'Oman', 'Taiwan',\n",
       "       'South Korea', 'Brazil', 'Iran', 'Bahrain', 'Israel', 'Uganda',\n",
       "       'United Kindgom', 'United Kindgon', 'Ecuador', 'Nigeria',\n",
       "       'Lebanon', 'Mexico', 'India', 'Poland', 'Nepal', 'Italy',\n",
       "       'Bangladesh', 'Qatar', 'Vietnam', 'Basque Country, Spain',\n",
       "       'Greece', 'Saudi Arabia', 'Korea'], dtype=object)"
      ]
     },
     "execution_count": 836,
     "metadata": {},
     "output_type": "execute_result"
    }
   ],
   "source": [
    "df['Country'].unique()"
   ]
  },
  {
   "cell_type": "code",
   "execution_count": 0,
   "metadata": {
    "application/vnd.databricks.v1+cell": {
     "cellMetadata": {
      "byteLimit": 2048000,
      "rowLimit": 10000
     },
     "inputWidgets": {},
     "nuid": "748c3e43-133d-40e7-9977-cb5500a651ae",
     "showTitle": false,
     "tableResultSettingsMap": {},
     "title": ""
    }
   },
   "outputs": [
    {
     "output_type": "stream",
     "name": "stdout",
     "output_type": "stream",
     "text": [
      "                                                Author  ...  oldest_age\n1                                             Treffert  ...       12.00\n12                                        Burd, et al.  ...       18.00\n17                                       Ritvo, et al.  ...       12.00\n28                                      Halfon, et al.  ...       17.00\n30                                     Hillman, et al.  ...       15.00\n36                                    Bertrand, et al.  ...       10.00\n37                                       Croen, et al.  ...       12.00\n39                             Yeargin-Allsopp, et al.  ...       10.00\n40                                      Gurney, et al.  ...       17.00\n43                                       Geier, et al.  ...       11.71\n49                                 Newschaffer, et al.  ...        6.00\n53                                   Blanchard, et al.  ...       17.00\n59                                    Shattuck, et al.  ...       11.00\n60   Autism and Developmental Disabilities  Monitor...  ...        8.00\n61   Autism and Developmental Disabilities  Monitor...  ...        8.00\n64                                       Croen, et al.  ...       10.00\n74                                    Nicholas, et al.  ...        8.00\n76   Autism and Developmental Disabilities Monitori...  ...        8.00\n77                                    Nicholas, et al.  ...        4.00\n81                                       Kogan, et al.  ...       17.00\n84                                     Maenner, et al.  ...       11.71\n87                                       Boyle, et al.  ...       17.00\n88                                        King, et al.  ...        6.00\n92                                    Wingdham, et al.  ...        8.00\n97                        Pinborough-Zimmerman, et al.  ...        8.00\n98                                       Lopez, et al.  ...        8.00\n100  Autism and Developmental Disabilities Monitori...  ...        8.00\n107                                   Pedersen, et al.  ...        8.00\n108                                    Schieve, et al.  ...       17.00\n115                                   Blumberg, et al.  ...       17.00\n116  Autism and Developmental Disabilities Monitori...  ...        8.00\n122                                  Zahorodny, et al.  ...        8.00\n124                                  Zablotsky, et al.  ...       17.00\n135                          Van Naarden Braun, et al.  ...        8.00\n137                                    Quinlan, et al.  ...       11.71\n143                     Christensen, et al. (CDC ADDM)  ...        4.00\n148                     Christensen, et al. (CDC ADDM)  ...        8.00\n149                                     Durkin, et al.  ...        8.00\n154                                       Soke, et al.  ...        4.00\n155                                     Thomas, et al.  ...       17.00\n157                                  Zablotsky, et al.  ...       17.00\n158                                      Kogan, et al.  ...       17.00\n160                            Baio, et al. (CDC ADDM)  ...        8.00\n161                                         Xu, et al.  ...       17.00\n166                                    Nevison, et al.  ...        5.00\n172                                         Xu, et al.  ...       17.00\n173                                        Imm, et al.  ...        8.00\n174                                  Zablotsky, et al.  ...       17.00\n175                     Christensen, et al. (CDC ADDM)  ...        4.00\n184                         Maenner, et al. (CDC ADDM)  ...        8.00\n185                            Shaw, et al. (CDC ADDM)  ...        4.00\n188                                  Zablotsky, et al.  ...       17.00\n194                                    Nevison, et al.  ...        6.00\n195                         Safer-Lichtenstein, et al.  ...       21.00\n198                                       Yuan, et al.  ...       17.00\n201                                         Li, et al.  ...       17.00\n202                                    Maenner, et al.  ...        8.00\n204                                   Shenouda, et al.  ...        8.00\n\n[58 rows x 15 columns]\n"
     ]
    }
   ],
   "source": [
    "print(df[df['Country'] == 'USA'])"
   ]
  },
  {
   "cell_type": "code",
   "execution_count": 0,
   "metadata": {
    "application/vnd.databricks.v1+cell": {
     "cellMetadata": {
      "byteLimit": 2048000,
      "rowLimit": 10000
     },
     "inputWidgets": {},
     "nuid": "3516937b-f05a-4b43-b30b-092b8100cc55",
     "showTitle": false,
     "tableResultSettingsMap": {},
     "title": ""
    }
   },
   "outputs": [
    {
     "output_type": "stream",
     "name": "stdout",
     "output_type": "stream",
     "text": [
      "0      8.0\n1      2.0\n2      2.0\n3      5.0\n4      0.0\n      ... \n202    8.0\n203    5.0\n204    8.0\n205    6.0\n206    0.0\nName: youngest_age, Length: 206, dtype: float64\n"
     ]
    },
    {
     "output_type": "display_data",
     "data": {
      "application/vnd.databricks.v1+direct_to_type_checking": {}
     },
     "metadata": {},
     "output_type": "display_data"
    },
    {
     "output_type": "display_data",
     "data": {
      "text/plain": [
       "\u001B[0;31m---------------------------------------------------------------------------\u001B[0m\n",
       "\u001B[0;31mAttributeError\u001B[0m                            Traceback (most recent call last)\n",
       "File \u001B[0;32m<command-5147349549171067>, line 2\u001B[0m\n",
       "\u001B[1;32m      1\u001B[0m df[\u001B[38;5;124m'\u001B[39m\u001B[38;5;124moldest_age\u001B[39m\u001B[38;5;124m'\u001B[39m]\u001B[38;5;241m.\u001B[39mmean() \u001B[38;5;241m-\u001B[39m df[\u001B[38;5;124m'\u001B[39m\u001B[38;5;124myoungest_age\u001B[39m\u001B[38;5;124m'\u001B[39m]\u001B[38;5;241m.\u001B[39mmean()\n",
       "\u001B[0;32m----> 2\u001B[0m \u001B[38;5;28mprint\u001B[39m(df[\u001B[38;5;124m'\u001B[39m\u001B[38;5;124myoungest_age\u001B[39m\u001B[38;5;124m'\u001B[39m])\u001B[38;5;241m.\u001B[39mmean()\n",
       "\u001B[1;32m      3\u001B[0m \u001B[38;5;28mprint\u001B[39m(df[\u001B[38;5;124m'\u001B[39m\u001B[38;5;124moldest_age\u001B[39m\u001B[38;5;124m'\u001B[39m])\u001B[38;5;241m.\u001B[39mmean()\n",
       "\n",
       "\u001B[0;31mAttributeError\u001B[0m: 'NoneType' object has no attribute 'mean'"
      ]
     },
     "metadata": {
      "application/vnd.databricks.v1+output": {
       "addedWidgets": {},
       "arguments": {},
       "datasetInfos": [],
       "jupyterProps": {
        "ename": "AttributeError",
        "evalue": "'NoneType' object has no attribute 'mean'"
       },
       "metadata": {
        "errorSummary": "<span class='ansi-red-fg'>AttributeError</span>: 'NoneType' object has no attribute 'mean'"
       },
       "removedWidgets": [],
       "sqlProps": {
        "breakingChangeInfo": null,
        "errorClass": "NOTEBOOK_USER_ERROR",
        "pysparkCallSite": null,
        "pysparkFragment": null,
        "pysparkSummary": null,
        "sqlState": "KD00G",
        "stackTrace": null,
        "startIndex": null,
        "stopIndex": null
       },
       "stackFrames": [
        "\u001B[0;31m---------------------------------------------------------------------------\u001B[0m",
        "\u001B[0;31mAttributeError\u001B[0m                            Traceback (most recent call last)",
        "File \u001B[0;32m<command-5147349549171067>, line 2\u001B[0m\n\u001B[1;32m      1\u001B[0m df[\u001B[38;5;124m'\u001B[39m\u001B[38;5;124moldest_age\u001B[39m\u001B[38;5;124m'\u001B[39m]\u001B[38;5;241m.\u001B[39mmean() \u001B[38;5;241m-\u001B[39m df[\u001B[38;5;124m'\u001B[39m\u001B[38;5;124myoungest_age\u001B[39m\u001B[38;5;124m'\u001B[39m]\u001B[38;5;241m.\u001B[39mmean()\n\u001B[0;32m----> 2\u001B[0m \u001B[38;5;28mprint\u001B[39m(df[\u001B[38;5;124m'\u001B[39m\u001B[38;5;124myoungest_age\u001B[39m\u001B[38;5;124m'\u001B[39m])\u001B[38;5;241m.\u001B[39mmean()\n\u001B[1;32m      3\u001B[0m \u001B[38;5;28mprint\u001B[39m(df[\u001B[38;5;124m'\u001B[39m\u001B[38;5;124moldest_age\u001B[39m\u001B[38;5;124m'\u001B[39m])\u001B[38;5;241m.\u001B[39mmean()\n",
        "\u001B[0;31mAttributeError\u001B[0m: 'NoneType' object has no attribute 'mean'"
       ],
       "type": "baseError"
      }
     },
     "output_type": "display_data"
    }
   ],
   "source": [
    "df['oldest_age'].mean() - df['youngest_age'].mean()\n",
    "print(df['youngest_age']).mean()\n",
    "print(df['oldest_age']).mean()"
   ]
  },
  {
   "cell_type": "code",
   "execution_count": 0,
   "metadata": {
    "application/vnd.databricks.v1+cell": {
     "cellMetadata": {
      "byteLimit": 2048000,
      "rowLimit": 10000
     },
     "inputWidgets": {},
     "nuid": "9f8f80c0-1bbe-4f00-9f22-c57a16caaf43",
     "showTitle": false,
     "tableResultSettingsMap": {},
     "title": ""
    }
   },
   "outputs": [
    {
     "output_type": "display_data",
     "data": {
      "text/plain": [
       ""
      ]
     },
     "metadata": {
      "application/vnd.databricks.v1+output": {
       "addedWidgets": {},
       "arguments": {},
       "datasetInfos": [],
       "jupyterProps": null,
       "metadata": {
        "errorSummary": "Command skipped"
       },
       "removedWidgets": [],
       "sqlProps": null,
       "stackFrames": [],
       "type": "baseError"
      }
     },
     "output_type": "display_data"
    }
   ],
   "source": [
    "print(df[df['Male:Female Sex Ratio'] < 4.0])\n",
    "df.describe()\n"
   ]
  },
  {
   "cell_type": "code",
   "execution_count": 0,
   "metadata": {
    "application/vnd.databricks.v1+cell": {
     "cellMetadata": {
      "byteLimit": 2048000,
      "rowLimit": 10000
     },
     "inputWidgets": {},
     "nuid": "b595cb01-d2ff-4cc6-93c1-e13f343864e9",
     "showTitle": false,
     "tableResultSettingsMap": {},
     "title": ""
    }
   },
   "outputs": [
    {
     "output_type": "display_data",
     "data": {
      "text/plain": [
       ""
      ]
     },
     "metadata": {
      "application/vnd.databricks.v1+output": {
       "addedWidgets": {},
       "arguments": {},
       "datasetInfos": [],
       "jupyterProps": null,
       "metadata": {
        "errorSummary": "Command skipped"
       },
       "removedWidgets": [],
       "sqlProps": null,
       "stackFrames": [],
       "type": "baseError"
      }
     },
     "output_type": "display_data"
    }
   ],
   "source": [
    "import matplotlib.pyplot as plt\n",
    "import numpy as np\n",
    "\n",
    "plt.boxplot(df['Male:Female Sex Ratio'])"
   ]
  }
 ],
 "metadata": {
  "application/vnd.databricks.v1+notebook": {
   "computePreferences": null,
   "dashboards": [],
   "environmentMetadata": {
    "base_environment": "",
    "environment_version": "4"
   },
   "inputWidgetPreferences": null,
   "language": "python",
   "notebookMetadata": {
    "pythonIndentUnit": 4
   },
   "notebookName": "Autism_DataCleaning",
   "widgets": {}
  },
  "language_info": {
   "name": "python"
  }
 },
 "nbformat": 4,
 "nbformat_minor": 0
}