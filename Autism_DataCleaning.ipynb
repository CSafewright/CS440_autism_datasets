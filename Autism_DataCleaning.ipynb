{
 "cells": [
  {
   "cell_type": "code",
   "execution_count": 0,
   "metadata": {
    "application/vnd.databricks.v1+cell": {
     "cellMetadata": {
      "byteLimit": 2048000,
      "rowLimit": 10000
     },
     "inputWidgets": {},
     "nuid": "c735aea5-dc51-44b6-a917-051f96486d1b",
     "showTitle": false,
     "tableResultSettingsMap": {},
     "title": ""
    }
   },
   "outputs": [],
   "source": [
    "import pandas as pd\n",
    "import matplotlib as plt"
   ]
  },
  {
   "cell_type": "code",
   "execution_count": 0,
   "metadata": {
    "application/vnd.databricks.v1+cell": {
     "cellMetadata": {
      "byteLimit": 2048000,
      "rowLimit": 10000
     },
     "inputWidgets": {},
     "nuid": "be310f6c-9805-411c-b6b0-53d366e8fe08",
     "showTitle": false,
     "tableResultSettingsMap": {},
     "title": ""
    }
   },
   "outputs": [],
   "source": [
    "csv_data = pd.read_csv(\"https://raw.githubusercontent.com/CSafewright/CS440_autism_datasets/refs/heads/main/autism_prevalence_studies_20250928.csv\")\n",
    "df = pd.DataFrame(csv_data)"
   ]
  },
  {
   "cell_type": "markdown",
   "metadata": {
    "application/vnd.databricks.v1+cell": {
     "cellMetadata": {
      "byteLimit": 2048000,
      "rowLimit": 10000
     },
     "inputWidgets": {},
     "nuid": "5dba6cca-9654-4794-b6f9-4387b78fddff",
     "showTitle": false,
     "tableResultSettingsMap": {},
     "title": ""
    }
   },
   "source": [
    "Dropping unneeded columns"
   ]
  },
  {
   "cell_type": "code",
   "execution_count": 0,
   "metadata": {
    "application/vnd.databricks.v1+cell": {
     "cellMetadata": {
      "byteLimit": 2048000,
      "rowLimit": 10000
     },
     "inputWidgets": {},
     "nuid": "40ab34ed-281d-47d4-a484-dd2887ae787c",
     "showTitle": false,
     "tableResultSettingsMap": {},
     "title": ""
    }
   },
   "outputs": [],
   "source": [
    "df.drop(['Title','Link to Publication', 'CDC Calculated Values',\n",
    "         'Adaptive Score <70 (%)', 'Diagnosis Age Range (months)',\n",
    "         'Diagnosis Median Age (months)', 'Diagnosis Mean Age (months)',\n",
    "         'Non-Verbal or Minimally Verbal (%)', 'Percentage of Individual Co-occurring Conditions',\n",
    "         'IQ Score <70 (%)', 'Non-Hispanic White:Hispanic Prevalence Ratio',\n",
    "         'White:Black Prevalence Ratio', 'Autism Types Included',\n",
    "         'Case Criterion', 'Confidence Interval (CI)'], axis=1, inplace=True)"
   ]
  },
  {
   "cell_type": "markdown",
   "metadata": {
    "application/vnd.databricks.v1+cell": {
     "cellMetadata": {
      "byteLimit": 2048000,
      "rowLimit": 10000
     },
     "inputWidgets": {},
     "nuid": "3e1182cf-112e-469c-988a-b774d3dbdd52",
     "showTitle": false,
     "tableResultSettingsMap": {},
     "title": ""
    }
   },
   "source": [
    "Dropping study where 18 to 64 was the age range. Not important to us, we are looking at autism in children."
   ]
  },
  {
   "cell_type": "code",
   "execution_count": 0,
   "metadata": {
    "application/vnd.databricks.v1+cell": {
     "cellMetadata": {
      "byteLimit": 2048000,
      "rowLimit": 10000
     },
     "inputWidgets": {},
     "nuid": "4a049206-4cd6-4e53-9ce6-82a092cce402",
     "showTitle": false,
     "tableResultSettingsMap": {},
     "title": ""
    }
   },
   "outputs": [],
   "source": [
    "df = df[df['Age Range'] != '18 to 64']"
   ]
  },
  {
   "cell_type": "markdown",
   "metadata": {
    "application/vnd.databricks.v1+cell": {
     "cellMetadata": {
      "byteLimit": 2048000,
      "rowLimit": 10000
     },
     "inputWidgets": {},
     "nuid": "da208ce7-4419-4e6a-86d9-c2e162e3036f",
     "showTitle": false,
     "tableResultSettingsMap": {},
     "title": ""
    }
   },
   "source": [
    "5 entries did not have an area. Changed those to be 'Unknown'"
   ]
  },
  {
   "cell_type": "code",
   "execution_count": 0,
   "metadata": {
    "application/vnd.databricks.v1+cell": {
     "cellMetadata": {
      "byteLimit": 2048000,
      "rowLimit": 10000
     },
     "inputWidgets": {},
     "nuid": "a11119dd-3f53-4a91-8be3-4c5f153029bc",
     "showTitle": false,
     "tableResultSettingsMap": {},
     "title": ""
    }
   },
   "outputs": [],
   "source": [
    "df['Area(s)'] = df['Area(s)'].fillna('Unknown')"
   ]
  },
  {
   "cell_type": "markdown",
   "metadata": {
    "application/vnd.databricks.v1+cell": {
     "cellMetadata": {
      "byteLimit": 2048000,
      "rowLimit": 10000
     },
     "inputWidgets": {},
     "nuid": "73e73dd7-c155-44a1-a5af-b774729724aa",
     "showTitle": false,
     "tableResultSettingsMap": {},
     "title": ""
    }
   },
   "source": [
    "Dropped 15 rows where the was no sample size given. Resulting in 191 rows.  \n",
    "Removed commas from Sample Size so it can be changed to numbers."
   ]
  },
  {
   "cell_type": "code",
   "execution_count": 0,
   "metadata": {
    "application/vnd.databricks.v1+cell": {
     "cellMetadata": {
      "byteLimit": 2048000,
      "rowLimit": 10000
     },
     "inputWidgets": {},
     "nuid": "46e1a08a-f7be-4d49-ace6-dad7425d598f",
     "showTitle": false,
     "tableResultSettingsMap": {},
     "title": ""
    }
   },
   "outputs": [],
   "source": [
    "df = df.dropna(subset=['Sample Size'])\n",
    "df['Sample Size'] = df['Sample Size'].replace(',', '', regex=True)"
   ]
  },
  {
   "cell_type": "markdown",
   "metadata": {
    "application/vnd.databricks.v1+cell": {
     "cellMetadata": {
      "byteLimit": 2048000,
      "rowLimit": 10000
     },
     "inputWidgets": {},
     "nuid": "b59b508f-9280-41d4-bfef-b33b2dfa8929",
     "showTitle": false,
     "tableResultSettingsMap": {},
     "title": ""
    }
   },
   "source": [
    "Dropped 5 rows where Number of Cases was not given, resulting in 186 rows.\n",
    "Removed commas from Number of Casess so it can be changed to numbers."
   ]
  },
  {
   "cell_type": "code",
   "execution_count": 0,
   "metadata": {
    "application/vnd.databricks.v1+cell": {
     "cellMetadata": {
      "byteLimit": 2048000,
      "rowLimit": 10000
     },
     "inputWidgets": {},
     "nuid": "f7dba1a3-b476-4f56-8218-450698235f8b",
     "showTitle": false,
     "tableResultSettingsMap": {},
     "title": ""
    }
   },
   "outputs": [
    {
     "output_type": "execute_result",
     "data": {
      "text/plain": [
       "Author                               186\n",
       "Year Published                       186\n",
       "Country                              186\n",
       "Area(s)                              186\n",
       "Age Range                            181\n",
       "Study Years                          164\n",
       "Case Identification Method           186\n",
       "Sample Size                          186\n",
       "Number of Cases                      186\n",
       "ASD Prevalence Estimate per 1,000    186\n",
       "Male:Female Sex Ratio                129\n",
       "dtype: int64"
      ]
     },
     "execution_count": 80,
     "metadata": {},
     "output_type": "execute_result"
    }
   ],
   "source": [
    "df = df.dropna(subset=['Number of Cases'])\n",
    "df['Number of Cases'] = df['Number of Cases'].replace(',', '', regex=True)\n",
    "df.count()"
   ]
  },
  {
   "cell_type": "markdown",
   "metadata": {
    "application/vnd.databricks.v1+cell": {
     "cellMetadata": {
      "byteLimit": 2048000,
      "rowLimit": 10000
     },
     "inputWidgets": {},
     "nuid": "cc5d2db8-abcc-4a31-b2e7-e4ae8c2f294c",
     "showTitle": false,
     "tableResultSettingsMap": {},
     "title": ""
    }
   },
   "source": [
    "Splitting 'Study Years' column and 'Age Range' column into two seperate columns each.  \n",
    "When the study years only occured for one year, the year started and year ended column are the same.  \n",
    "When the age range is only one age, the youngest and oldest age columns are the same."
   ]
  },
  {
   "cell_type": "code",
   "execution_count": 0,
   "metadata": {
    "application/vnd.databricks.v1+cell": {
     "cellMetadata": {
      "byteLimit": 2048000,
      "rowLimit": 10000
     },
     "inputWidgets": {},
     "nuid": "0c26e9da-77d9-444f-84cd-1136c6f135b2",
     "showTitle": false,
     "tableResultSettingsMap": {},
     "title": ""
    }
   },
   "outputs": [],
   "source": [
    "# Split Study Years into start and end\n",
    "df[['year_started', 'year_ended']] = (\n",
    "    df['Study Years'].str.extract(r'(\\d+)\\s*-\\s*(\\d+)')\n",
    ")\n",
    "\n",
    "# If there are \" & \" cases instead of \"-\", handle them\n",
    "mask_alt = df['Study Years'].str.contains('&', na=False)\n",
    "df.loc[mask_alt, ['year_started', 'year_ended']] = (\n",
    "    df.loc[mask_alt, 'Study Years'].str.extract(r'(\\d+)\\s*&\\s*(\\d+)')\n",
    ")\n",
    "\n",
    "df['year_started'] = df['year_started'].fillna(df['Year Published'])\n",
    "\n",
    "# Fill missing end years with start years\n",
    "df['year_ended'] = df['year_ended'].fillna(df['year_started'])\n",
    "\n",
    "# Split Age Range\n",
    "df[['youngest_age', 'oldest_age']] = (\n",
    "    df['Age Range'].str.extract(r'(\\d+)\\s*to\\s*(\\d+)')\n",
    ")\n",
    "\n",
    "df['youngest_age'] = df['youngest_age'].fillna(df['Age Range'])\n",
    "\n",
    "# Fill missing oldest_age with youngest_age\n",
    "df['oldest_age'] = df['oldest_age'].fillna(df['youngest_age'])\n",
    "\n",
    "# Drop original columns\n",
    "df = df.drop(columns=['Age Range', 'Study Years'])\n",
    "\n",
    "# Convert to numeric;  UPDATE THIS NEXT TIME: NEED TO REMOVE , FROM SAMPLE SIZE AND NUMBER OF CASES\n",
    "df[['year_started', 'year_ended', 'youngest_age', 'oldest_age', 'Sample Size', 'Number of Cases']] = (\n",
    "    df[['year_started', 'year_ended', 'youngest_age', 'oldest_age', 'Sample Size', 'Number of Cases']].apply(pd.to_numeric, errors='coerce')\n",
    ")"
   ]
  },
  {
   "cell_type": "code",
   "execution_count": 0,
   "metadata": {
    "application/vnd.databricks.v1+cell": {
     "cellMetadata": {
      "byteLimit": 2048000,
      "rowLimit": 10000
     },
     "inputWidgets": {},
     "nuid": "1b719500-cea5-4847-96ee-2253d3e779eb",
     "showTitle": false,
     "tableResultSettingsMap": {},
     "title": ""
    }
   },
   "outputs": [
    {
     "output_type": "execute_result",
     "data": {
      "text/html": [
       "<div>\n",
       "<style scoped>\n",
       "    .dataframe tbody tr th:only-of-type {\n",
       "        vertical-align: middle;\n",
       "    }\n",
       "\n",
       "    .dataframe tbody tr th {\n",
       "        vertical-align: top;\n",
       "    }\n",
       "\n",
       "    .dataframe thead th {\n",
       "        text-align: right;\n",
       "    }\n",
       "</style>\n",
       "<table border=\"1\" class=\"dataframe\">\n",
       "  <thead>\n",
       "    <tr style=\"text-align: right;\">\n",
       "      <th></th>\n",
       "      <th>Year Published</th>\n",
       "      <th>Sample Size</th>\n",
       "      <th>Number of Cases</th>\n",
       "      <th>ASD Prevalence Estimate per 1,000</th>\n",
       "      <th>Male:Female Sex Ratio</th>\n",
       "      <th>year_started</th>\n",
       "      <th>year_ended</th>\n",
       "      <th>youngest_age</th>\n",
       "      <th>oldest_age</th>\n",
       "    </tr>\n",
       "  </thead>\n",
       "  <tbody>\n",
       "    <tr>\n",
       "      <th>count</th>\n",
       "      <td>186.000000</td>\n",
       "      <td>1.860000e+02</td>\n",
       "      <td>186.000000</td>\n",
       "      <td>186.000000</td>\n",
       "      <td>129.000000</td>\n",
       "      <td>186.000000</td>\n",
       "      <td>186.000000</td>\n",
       "      <td>180.000000</td>\n",
       "      <td>180.000000</td>\n",
       "    </tr>\n",
       "    <tr>\n",
       "      <th>mean</th>\n",
       "      <td>2009.005376</td>\n",
       "      <td>9.485509e+05</td>\n",
       "      <td>5679.408602</td>\n",
       "      <td>8.592833</td>\n",
       "      <td>4.084574</td>\n",
       "      <td>2006.451613</td>\n",
       "      <td>2007.752688</td>\n",
       "      <td>4.316667</td>\n",
       "      <td>11.533333</td>\n",
       "    </tr>\n",
       "    <tr>\n",
       "      <th>std</th>\n",
       "      <td>11.195316</td>\n",
       "      <td>5.345721e+06</td>\n",
       "      <td>46664.636275</td>\n",
       "      <td>8.256713</td>\n",
       "      <td>1.597605</td>\n",
       "      <td>11.911853</td>\n",
       "      <td>11.303342</td>\n",
       "      <td>3.049819</td>\n",
       "      <td>5.444899</td>\n",
       "    </tr>\n",
       "    <tr>\n",
       "      <th>min</th>\n",
       "      <td>1966.000000</td>\n",
       "      <td>3.740000e+02</td>\n",
       "      <td>2.000000</td>\n",
       "      <td>0.077000</td>\n",
       "      <td>1.100000</td>\n",
       "      <td>1962.000000</td>\n",
       "      <td>1966.000000</td>\n",
       "      <td>0.000000</td>\n",
       "      <td>2.000000</td>\n",
       "    </tr>\n",
       "    <tr>\n",
       "      <th>25%</th>\n",
       "      <td>2005.000000</td>\n",
       "      <td>1.173125e+04</td>\n",
       "      <td>46.000000</td>\n",
       "      <td>2.307500</td>\n",
       "      <td>2.900000</td>\n",
       "      <td>2002.000000</td>\n",
       "      <td>2003.000000</td>\n",
       "      <td>2.000000</td>\n",
       "      <td>8.000000</td>\n",
       "    </tr>\n",
       "    <tr>\n",
       "      <th>50%</th>\n",
       "      <td>2012.000000</td>\n",
       "      <td>5.846700e+04</td>\n",
       "      <td>191.500000</td>\n",
       "      <td>6.200000</td>\n",
       "      <td>4.100000</td>\n",
       "      <td>2010.000000</td>\n",
       "      <td>2011.000000</td>\n",
       "      <td>4.500000</td>\n",
       "      <td>11.000000</td>\n",
       "    </tr>\n",
       "    <tr>\n",
       "      <th>75%</th>\n",
       "      <td>2017.000000</td>\n",
       "      <td>2.785668e+05</td>\n",
       "      <td>1188.750000</td>\n",
       "      <td>12.075000</td>\n",
       "      <td>4.800000</td>\n",
       "      <td>2015.000000</td>\n",
       "      <td>2016.000000</td>\n",
       "      <td>7.000000</td>\n",
       "      <td>15.250000</td>\n",
       "    </tr>\n",
       "    <tr>\n",
       "      <th>max</th>\n",
       "      <td>2022.000000</td>\n",
       "      <td>5.152934e+07</td>\n",
       "      <td>625215.000000</td>\n",
       "      <td>43.600000</td>\n",
       "      <td>9.900000</td>\n",
       "      <td>2022.000000</td>\n",
       "      <td>2022.000000</td>\n",
       "      <td>15.000000</td>\n",
       "      <td>30.000000</td>\n",
       "    </tr>\n",
       "  </tbody>\n",
       "</table>\n",
       "</div>"
      ],
      "text/plain": [
       "       Year Published   Sample Size  ...  youngest_age  oldest_age\n",
       "count      186.000000  1.860000e+02  ...    180.000000  180.000000\n",
       "mean      2009.005376  9.485509e+05  ...      4.316667   11.533333\n",
       "std         11.195316  5.345721e+06  ...      3.049819    5.444899\n",
       "min       1966.000000  3.740000e+02  ...      0.000000    2.000000\n",
       "25%       2005.000000  1.173125e+04  ...      2.000000    8.000000\n",
       "50%       2012.000000  5.846700e+04  ...      4.500000   11.000000\n",
       "75%       2017.000000  2.785668e+05  ...      7.000000   15.250000\n",
       "max       2022.000000  5.152934e+07  ...     15.000000   30.000000\n",
       "\n",
       "[8 rows x 9 columns]"
      ]
     },
     "execution_count": 82,
     "metadata": {},
     "output_type": "execute_result"
    }
   ],
   "source": [
    "df.describe()"
   ]
  },
  {
   "cell_type": "code",
   "execution_count": 0,
   "metadata": {
    "application/vnd.databricks.v1+cell": {
     "cellMetadata": {
      "byteLimit": 2048000,
      "rowLimit": 10000
     },
     "inputWidgets": {},
     "nuid": "c89672c5-8604-40e4-a53a-72faa4dea8d6",
     "showTitle": false,
     "tableResultSettingsMap": {},
     "title": ""
    }
   },
   "outputs": [],
   "source": [
    "avg_youngest_age = df['youngest_age'].mean()\n",
    "avg_oldest_age = df['oldest_age'].mean()\n",
    "df['youngest_age'] = df['youngest_age'].fillna(avg_youngest_age)\n",
    "df['oldest_age'] = df['oldest_age'].fillna(avg_oldest_age)"
   ]
  },
  {
   "cell_type": "markdown",
   "metadata": {
    "application/vnd.databricks.v1+cell": {
     "cellMetadata": {
      "byteLimit": 2048000,
      "rowLimit": 10000
     },
     "inputWidgets": {},
     "nuid": "2ae1e8ef-a0e3-43d6-9509-660f597bfd33",
     "showTitle": false,
     "tableResultSettingsMap": {},
     "title": ""
    }
   },
   "source": [
    "Changing empty spaces in Area(s), Sample Size, and Number of Cases columns to 'Unknown'"
   ]
  },
  {
   "cell_type": "code",
   "execution_count": 0,
   "metadata": {
    "application/vnd.databricks.v1+cell": {
     "cellMetadata": {
      "byteLimit": 2048000,
      "rowLimit": 10000
     },
     "inputWidgets": {},
     "nuid": "00a54acc-ca3f-4dc5-91af-d43897996feb",
     "showTitle": false,
     "tableResultSettingsMap": {},
     "title": ""
    }
   },
   "outputs": [
    {
     "output_type": "execute_result",
     "data": {
      "text/plain": [
       "Author                               186\n",
       "Year Published                       186\n",
       "Country                              186\n",
       "Area(s)                              186\n",
       "Case Identification Method           186\n",
       "Sample Size                          186\n",
       "Number of Cases                      186\n",
       "ASD Prevalence Estimate per 1,000    186\n",
       "Male:Female Sex Ratio                129\n",
       "year_started                         186\n",
       "year_ended                           186\n",
       "youngest_age                         186\n",
       "oldest_age                           186\n",
       "dtype: int64"
      ]
     },
     "execution_count": 84,
     "metadata": {},
     "output_type": "execute_result"
    }
   ],
   "source": [
    "df.count()"
   ]
  },
  {
   "cell_type": "markdown",
   "metadata": {
    "application/vnd.databricks.v1+cell": {
     "cellMetadata": {
      "byteLimit": 2048000,
      "rowLimit": 10000
     },
     "inputWidgets": {},
     "nuid": "947e23a6-4c28-43f2-bb42-35035029e3ac",
     "showTitle": false,
     "tableResultSettingsMap": {},
     "title": ""
    }
   },
   "source": [
    "Male:Female Sex Ratio had 67% of cells. There were only 39 below 3.0 and 59 below 4.0. There were ~75 above 4.0.  \n",
    "I felt it safe to assign the mean to of 4.07 to the empty cells.\n",
    "This update changes the USA average from 3.95 to 3.999 (4.0)\n",
    "For every other study outside of the US, the average changes from 4.114 to 4.1"
   ]
  },
  {
   "cell_type": "code",
   "execution_count": 0,
   "metadata": {
    "application/vnd.databricks.v1+cell": {
     "cellMetadata": {
      "byteLimit": 2048000,
      "rowLimit": 10000
     },
     "inputWidgets": {},
     "nuid": "cde4465c-474c-4977-9b18-d494de79bb67",
     "showTitle": false,
     "tableResultSettingsMap": {},
     "title": ""
    }
   },
   "outputs": [],
   "source": [
    "mf_avg_ratio = df['Male:Female Sex Ratio'].mean()\n",
    "df['Male:Female Sex Ratio'] = df['Male:Female Sex Ratio'].fillna(mf_avg_ratio)"
   ]
  },
  {
   "cell_type": "code",
   "execution_count": 0,
   "metadata": {
    "application/vnd.databricks.v1+cell": {
     "cellMetadata": {
      "byteLimit": 2048000,
      "rowLimit": 10000
     },
     "collapsed": true,
     "inputWidgets": {},
     "nuid": "14f8aa1e-7372-447e-9a85-463592e6e22a",
     "showTitle": false,
     "tableResultSettingsMap": {},
     "title": ""
    }
   },
   "outputs": [
    {
     "output_type": "execute_result",
     "data": {
      "text/html": [
       "<div>\n",
       "<style scoped>\n",
       "    .dataframe tbody tr th:only-of-type {\n",
       "        vertical-align: middle;\n",
       "    }\n",
       "\n",
       "    .dataframe tbody tr th {\n",
       "        vertical-align: top;\n",
       "    }\n",
       "\n",
       "    .dataframe thead th {\n",
       "        text-align: right;\n",
       "    }\n",
       "</style>\n",
       "<table border=\"1\" class=\"dataframe\">\n",
       "  <thead>\n",
       "    <tr style=\"text-align: right;\">\n",
       "      <th></th>\n",
       "      <th>Year Published</th>\n",
       "      <th>Sample Size</th>\n",
       "      <th>Number of Cases</th>\n",
       "      <th>ASD Prevalence Estimate per 1,000</th>\n",
       "      <th>Male:Female Sex Ratio</th>\n",
       "      <th>year_started</th>\n",
       "      <th>year_ended</th>\n",
       "      <th>youngest_age</th>\n",
       "      <th>oldest_age</th>\n",
       "    </tr>\n",
       "  </thead>\n",
       "  <tbody>\n",
       "    <tr>\n",
       "      <th>count</th>\n",
       "      <td>186.000000</td>\n",
       "      <td>1.860000e+02</td>\n",
       "      <td>186.000000</td>\n",
       "      <td>186.000000</td>\n",
       "      <td>186.000000</td>\n",
       "      <td>186.000000</td>\n",
       "      <td>186.000000</td>\n",
       "      <td>186.000000</td>\n",
       "      <td>186.000000</td>\n",
       "    </tr>\n",
       "    <tr>\n",
       "      <th>mean</th>\n",
       "      <td>2009.005376</td>\n",
       "      <td>9.485509e+05</td>\n",
       "      <td>5679.408602</td>\n",
       "      <td>8.592833</td>\n",
       "      <td>4.084574</td>\n",
       "      <td>2006.451613</td>\n",
       "      <td>2007.752688</td>\n",
       "      <td>4.316667</td>\n",
       "      <td>11.533333</td>\n",
       "    </tr>\n",
       "    <tr>\n",
       "      <th>std</th>\n",
       "      <td>11.195316</td>\n",
       "      <td>5.345721e+06</td>\n",
       "      <td>46664.636275</td>\n",
       "      <td>8.256713</td>\n",
       "      <td>1.328889</td>\n",
       "      <td>11.911853</td>\n",
       "      <td>11.303342</td>\n",
       "      <td>2.999955</td>\n",
       "      <td>5.355876</td>\n",
       "    </tr>\n",
       "    <tr>\n",
       "      <th>min</th>\n",
       "      <td>1966.000000</td>\n",
       "      <td>3.740000e+02</td>\n",
       "      <td>2.000000</td>\n",
       "      <td>0.077000</td>\n",
       "      <td>1.100000</td>\n",
       "      <td>1962.000000</td>\n",
       "      <td>1966.000000</td>\n",
       "      <td>0.000000</td>\n",
       "      <td>2.000000</td>\n",
       "    </tr>\n",
       "    <tr>\n",
       "      <th>25%</th>\n",
       "      <td>2005.000000</td>\n",
       "      <td>1.173125e+04</td>\n",
       "      <td>46.000000</td>\n",
       "      <td>2.307500</td>\n",
       "      <td>3.500000</td>\n",
       "      <td>2002.000000</td>\n",
       "      <td>2003.000000</td>\n",
       "      <td>2.000000</td>\n",
       "      <td>8.000000</td>\n",
       "    </tr>\n",
       "    <tr>\n",
       "      <th>50%</th>\n",
       "      <td>2012.000000</td>\n",
       "      <td>5.846700e+04</td>\n",
       "      <td>191.500000</td>\n",
       "      <td>6.200000</td>\n",
       "      <td>4.084574</td>\n",
       "      <td>2010.000000</td>\n",
       "      <td>2011.000000</td>\n",
       "      <td>4.316667</td>\n",
       "      <td>11.000000</td>\n",
       "    </tr>\n",
       "    <tr>\n",
       "      <th>75%</th>\n",
       "      <td>2017.000000</td>\n",
       "      <td>2.785668e+05</td>\n",
       "      <td>1188.750000</td>\n",
       "      <td>12.075000</td>\n",
       "      <td>4.450000</td>\n",
       "      <td>2015.000000</td>\n",
       "      <td>2016.000000</td>\n",
       "      <td>6.750000</td>\n",
       "      <td>15.000000</td>\n",
       "    </tr>\n",
       "    <tr>\n",
       "      <th>max</th>\n",
       "      <td>2022.000000</td>\n",
       "      <td>5.152934e+07</td>\n",
       "      <td>625215.000000</td>\n",
       "      <td>43.600000</td>\n",
       "      <td>9.900000</td>\n",
       "      <td>2022.000000</td>\n",
       "      <td>2022.000000</td>\n",
       "      <td>15.000000</td>\n",
       "      <td>30.000000</td>\n",
       "    </tr>\n",
       "  </tbody>\n",
       "</table>\n",
       "</div>"
      ],
      "text/plain": [
       "       Year Published   Sample Size  ...  youngest_age  oldest_age\n",
       "count      186.000000  1.860000e+02  ...    186.000000  186.000000\n",
       "mean      2009.005376  9.485509e+05  ...      4.316667   11.533333\n",
       "std         11.195316  5.345721e+06  ...      2.999955    5.355876\n",
       "min       1966.000000  3.740000e+02  ...      0.000000    2.000000\n",
       "25%       2005.000000  1.173125e+04  ...      2.000000    8.000000\n",
       "50%       2012.000000  5.846700e+04  ...      4.316667   11.000000\n",
       "75%       2017.000000  2.785668e+05  ...      6.750000   15.000000\n",
       "max       2022.000000  5.152934e+07  ...     15.000000   30.000000\n",
       "\n",
       "[8 rows x 9 columns]"
      ]
     },
     "execution_count": 86,
     "metadata": {},
     "output_type": "execute_result"
    }
   ],
   "source": [
    "df.describe()"
   ]
  },
  {
   "cell_type": "code",
   "execution_count": 0,
   "metadata": {
    "application/vnd.databricks.v1+cell": {
     "cellMetadata": {
      "byteLimit": 2048000,
      "rowLimit": 10000
     },
     "inputWidgets": {},
     "nuid": "9f8f80c0-1bbe-4f00-9f22-c57a16caaf43",
     "showTitle": false,
     "tableResultSettingsMap": {},
     "title": ""
    }
   },
   "outputs": [
    {
     "output_type": "stream",
     "name": "stdout",
     "output_type": "stream",
     "text": [
      "       Year Published   Sample Size  ...  youngest_age  oldest_age\ncount      186.000000  1.860000e+02  ...    186.000000  186.000000\nmean      2009.005376  9.485509e+05  ...      4.316667   11.533333\nstd         11.195316  5.345721e+06  ...      2.999955    5.355876\nmin       1966.000000  3.740000e+02  ...      0.000000    2.000000\n25%       2005.000000  1.173125e+04  ...      2.000000    8.000000\n50%       2012.000000  5.846700e+04  ...      4.316667   11.000000\n75%       2017.000000  2.785668e+05  ...      6.750000   15.000000\nmax       2022.000000  5.152934e+07  ...     15.000000   30.000000\n\n[8 rows x 9 columns]\nAuthor                               186\nYear Published                       186\nCountry                              186\nArea(s)                              186\nCase Identification Method           186\nSample Size                          186\nNumber of Cases                      186\nASD Prevalence Estimate per 1,000    186\nMale:Female Sex Ratio                186\nyear_started                         186\nyear_ended                           186\nyoungest_age                         186\noldest_age                           186\ndtype: int64\n"
     ]
    }
   ],
   "source": [
    "print(df.describe())\n",
    "print(df.count())"
   ]
  },
  {
   "cell_type": "code",
   "execution_count": 0,
   "metadata": {
    "application/vnd.databricks.v1+cell": {
     "cellMetadata": {
      "byteLimit": 2048000,
      "rowLimit": 10000
     },
     "inputWidgets": {},
     "nuid": "2c436891-1ac6-4fb9-8359-0f1a6acc595b",
     "showTitle": false,
     "tableResultSettingsMap": {},
     "title": ""
    }
   },
   "outputs": [],
   "source": [
    "df.to_csv('autism_cleaned_data.csv', index=False)"
   ]
  }
 ],
 "metadata": {
  "application/vnd.databricks.v1+notebook": {
   "computePreferences": null,
   "dashboards": [],
   "environmentMetadata": {
    "base_environment": "",
    "environment_version": "4"
   },
   "inputWidgetPreferences": null,
   "language": "python",
   "notebookMetadata": {
    "pythonIndentUnit": 4
   },
   "notebookName": "Autism_DataCleaning",
   "widgets": {}
  },
  "language_info": {
   "name": "python"
  }
 },
 "nbformat": 4,
 "nbformat_minor": 0
}